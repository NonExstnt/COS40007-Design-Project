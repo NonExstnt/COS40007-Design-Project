{
  "nbformat": 4,
  "nbformat_minor": 0,
  "metadata": {
    "colab": {
      "provenance": []
    },
    "kernelspec": {
      "name": "python3",
      "display_name": "Python 3"
    },
    "language_info": {
      "name": "python"
    }
  },
  "cells": [
    {
      "cell_type": "code",
      "execution_count": 4,
      "metadata": {
        "colab": {
          "base_uri": "https://localhost:8080/"
        },
        "id": "wRIJdBKR98DX",
        "outputId": "e16f26ac-dda2-4d61-93d9-521351392382"
      },
      "outputs": [
        {
          "output_type": "stream",
          "name": "stdout",
          "text": [
            "Predicted network performance: 0.3942323923110962\n"
          ]
        }
      ],
      "source": [
        "import torch\n",
        "import torch.nn as nn\n",
        "import numpy as np\n",
        "\n",
        "# Define the LSTM model architecture (same as used in training)\n",
        "class LSTMModel(nn.Module):\n",
        "    def __init__(self, input_size, hidden_size, num_layers):\n",
        "        super(LSTMModel, self).__init__()\n",
        "        self.hidden_size = hidden_size\n",
        "        self.num_layers = num_layers\n",
        "        self.lstm = nn.LSTM(input_size, hidden_size, num_layers, batch_first=True)\n",
        "        self.fc = nn.Linear(hidden_size, 1)\n",
        "\n",
        "    def forward(self, x):\n",
        "        h0 = torch.zeros(self.num_layers, x.size(0), self.hidden_size)\n",
        "        c0 = torch.zeros(self.num_layers, x.size(0), self.hidden_size)\n",
        "        out, _ = self.lstm(x, (h0, c0))\n",
        "        out = self.fc(out[:, -1, :])\n",
        "        return out\n",
        "\n",
        "# Load the saved model\n",
        "# Instantiate the model with input_size=3 to match the saved model\n",
        "model = LSTMModel(input_size=3, hidden_size=64, num_layers=2)\n",
        "model.load_state_dict(torch.load(\"best_lstm_model.pt\", map_location=torch.device('cpu')))\n",
        "model.eval()\n",
        "\n",
        "# Generate dummy input: 50 time steps of past network bitrate values\n",
        "# Adjust the dummy input shape to match the expected input size (3)\n",
        "data = np.random.rand(50, 3) # Changed from (50) to (50, 3)\n",
        "sample_input = torch.tensor(data, dtype=torch.float32).view(1, 50, 3) # Changed from (1, 50, 1) to (1, 50, 3)\n",
        "\n",
        "# Make a prediction\n",
        "with torch.no_grad():\n",
        "    predicted = model(sample_input)\n",
        "    print(\"Predicted network performance:\", predicted.item())"
      ]
    }
  ]
}