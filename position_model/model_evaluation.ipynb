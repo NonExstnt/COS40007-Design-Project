{
 "cells": [
  {
   "cell_type": "markdown",
   "id": "6d90c366",
   "metadata": {},
   "source": [
    "# Import Required Libraries\n",
    "Import libraries such as pandas, numpy, and joblib for model loading and evaluation."
   ]
  },
  {
   "cell_type": "code",
   "execution_count": 3,
   "id": "ba88750b",
   "metadata": {},
   "outputs": [],
   "source": [
    "# Import Required Libraries\n",
    "import pandas as pd\n",
    "from xgboost import XGBRegressor\n",
    "from sklearn.model_selection import train_test_split"
   ]
  },
  {
   "cell_type": "markdown",
   "id": "57c284e9",
   "metadata": {},
   "source": [
    "# Model Accuracy Evaluation for Longitude and Latitude Prediction\n",
    "This notebook loads both the original and best-tuned XGBoost models, predicts on the test set, and calculates an accuracy score based on how close the predicted values are to the true values."
   ]
  },
  {
   "cell_type": "markdown",
   "id": "4865f774",
   "metadata": {},
   "source": [
    "## Load Data and Prepare Test Set"
   ]
  },
  {
   "cell_type": "code",
   "execution_count": 4,
   "id": "95942d9f",
   "metadata": {},
   "outputs": [
    {
     "name": "stderr",
     "output_type": "stream",
     "text": [
      "/tmp/ipykernel_35529/858522556.py:1: DtypeWarning: Columns (23) have mixed types. Specify dtype option on import or set low_memory=False.\n",
      "  df = pd.read_csv('../clean_data/Master5G.csv')\n"
     ]
    }
   ],
   "source": [
    "df = pd.read_csv('../clean_data/Master5G.csv')\n",
    "X = df[['hour', 'speed']]\n",
    "y_long = df['longitude']\n",
    "y_lat = df['latitude']\n",
    "X_train, X_test, y_long_train, y_long_test = train_test_split(X, y_long, test_size=0.2, random_state=42)\n",
    "_, _, y_lat_train, y_lat_test = train_test_split(X, y_lat, test_size=0.2, random_state=42)"
   ]
  },
  {
   "cell_type": "markdown",
   "id": "d65c6f22",
   "metadata": {},
   "source": [
    "## Load Both Sets of Models"
   ]
  },
  {
   "cell_type": "code",
   "execution_count": 5,
   "id": "ddab966a",
   "metadata": {},
   "outputs": [],
   "source": [
    "# Original models\n",
    "xgb_long = XGBRegressor()\n",
    "xgb_lat = XGBRegressor()\n",
    "xgb_long.load_model('../position_model/xgb_longitude_model.pt')\n",
    "xgb_lat.load_model('../position_model/xgb_latitude_model.pt')\n",
    "\n",
    "# Best-tuned models\n",
    "xgb_long_best = XGBRegressor()\n",
    "xgb_lat_best = XGBRegressor()\n",
    "xgb_long_best.load_model('../position_model/xgb_longitude_model_best.pt')\n",
    "xgb_lat_best.load_model('../position_model/xgb_latitude_model_best.pt')"
   ]
  },
  {
   "cell_type": "markdown",
   "id": "01e3bbe8",
   "metadata": {},
   "source": [
    "## Predict and Calculate Accuracy Scores"
   ]
  },
  {
   "cell_type": "code",
   "execution_count": 6,
   "id": "23c39b88",
   "metadata": {},
   "outputs": [],
   "source": [
    "import math\n",
    "\n",
    "def haversine(lat1, lon1, lat2, lon2):\n",
    "    # Radius of Earth in kilometers. Use 3956 for miles\n",
    "    R = 6371.0\n",
    "\n",
    "    # Convert coordinates from degrees to radians\n",
    "    phi1 = math.radians(lat1)\n",
    "    phi2 = math.radians(lat2)\n",
    "    delta_phi = math.radians(lat2 - lat1)\n",
    "    delta_lambda = math.radians(lon2 - lon1)\n",
    "\n",
    "    # Haversine formula\n",
    "    a = math.sin(delta_phi / 2)**2 + \\\n",
    "        math.cos(phi1) * math.cos(phi2) * math.sin(delta_lambda / 2)**2\n",
    "    c = 2 * math.atan2(math.sqrt(a), math.sqrt(1 - a))\n",
    "\n",
    "    distance = R * c  # in kilometers\n",
    "    return distance\n"
   ]
  },
  {
   "cell_type": "code",
   "execution_count": 15,
   "id": "cd93d5f9",
   "metadata": {},
   "outputs": [
    {
     "name": "stdout",
     "output_type": "stream",
     "text": [
      "Original Model Accuracy within 1km: 0.057\n",
      "Best-tuned Model Accuracy within 1km: 0.057\n"
     ]
    }
   ],
   "source": [
    "# Predict\n",
    "y_long_pred = xgb_long.predict(X_test)\n",
    "y_lat_pred = xgb_lat.predict(X_test)\n",
    "y_long_pred_best = xgb_long_best.predict(X_test)\n",
    "y_lat_pred_best = xgb_lat_best.predict(X_test)\n",
    "\n",
    "# Calculate accuracy within 50 meters (0.05 km) using haversine distance\n",
    "def accuracy_within_1km(y_lat_true, y_long_true, y_lat_pred, y_long_pred):\n",
    "    correct = 0\n",
    "    total = len(y_lat_true)\n",
    "    for lat_t, lon_t, lat_p, lon_p in zip(y_lat_true, y_long_true, y_lat_pred, y_long_pred):\n",
    "        dist = haversine(lat_t, lon_t, lat_p, lon_p)\n",
    "        if dist <= 1:\n",
    "            correct += 1\n",
    "    return correct / total if total > 0 else 0\n",
    "\n",
    "# Calculate accuracy for original models\n",
    "acc_orig_1km = accuracy_within_1km(y_lat_test.values, y_long_test.values, y_lat_pred, y_long_pred)\n",
    "# Calculate accuracy for best-tuned models\n",
    "acc_best_1km = accuracy_within_1km(y_lat_test.values, y_long_test.values, y_lat_pred_best, y_long_pred_best)\n",
    "\n",
    "print(f'Original Model Accuracy within 1km: {acc_orig_1km:.3f}')\n",
    "print(f'Best-tuned Model Accuracy within 1km: {acc_best_1km:.3f}')"
   ]
  }
 ],
 "metadata": {
  "kernelspec": {
   "display_name": ".venv",
   "language": "python",
   "name": "python3"
  },
  "language_info": {
   "codemirror_mode": {
    "name": "ipython",
    "version": 3
   },
   "file_extension": ".py",
   "mimetype": "text/x-python",
   "name": "python",
   "nbconvert_exporter": "python",
   "pygments_lexer": "ipython3",
   "version": "3.12.3"
  }
 },
 "nbformat": 4,
 "nbformat_minor": 5
}
