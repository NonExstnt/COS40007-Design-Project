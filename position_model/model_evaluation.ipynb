{
 "cells": [
  {
   "cell_type": "markdown",
   "id": "6d90c366",
   "metadata": {},
   "source": [
    "# Import Required Libraries\n",
    "Import libraries such as pandas, numpy, and joblib for model loading and evaluation."
   ]
  },
  {
   "cell_type": "code",
   "execution_count": 5,
   "id": "ba88750b",
   "metadata": {},
   "outputs": [],
   "source": [
    "# Import Required Libraries\n",
    "import pandas as pd\n",
    "import numpy as np\n",
    "from xgboost import XGBRegressor\n",
    "from sklearn.model_selection import train_test_split"
   ]
  },
  {
   "cell_type": "markdown",
   "id": "57c284e9",
   "metadata": {},
   "source": [
    "# Model Accuracy Evaluation for Longitude and Latitude Prediction\n",
    "This notebook loads both the original and best-tuned XGBoost models, predicts on the test set, and calculates an accuracy score based on how close the predicted values are to the true values."
   ]
  },
  {
   "cell_type": "markdown",
   "id": "4865f774",
   "metadata": {},
   "source": [
    "## Load Data and Prepare Test Set"
   ]
  },
  {
   "cell_type": "code",
   "execution_count": 6,
   "id": "95942d9f",
   "metadata": {},
   "outputs": [
    {
     "name": "stderr",
     "output_type": "stream",
     "text": [
      "/tmp/ipykernel_29512/858522556.py:1: DtypeWarning: Columns (23) have mixed types. Specify dtype option on import or set low_memory=False.\n",
      "  df = pd.read_csv('../clean_data/Master5G.csv')\n"
     ]
    }
   ],
   "source": [
    "df = pd.read_csv('../clean_data/Master5G.csv')\n",
    "X = df[['hour', 'speed']]\n",
    "y_long = df['longitude']\n",
    "y_lat = df['latitude']\n",
    "X_train, X_test, y_long_train, y_long_test = train_test_split(X, y_long, test_size=0.2, random_state=42)\n",
    "_, _, y_lat_train, y_lat_test = train_test_split(X, y_lat, test_size=0.2, random_state=42)"
   ]
  },
  {
   "cell_type": "markdown",
   "id": "d65c6f22",
   "metadata": {},
   "source": [
    "## Load Both Sets of Models"
   ]
  },
  {
   "cell_type": "code",
   "execution_count": 7,
   "id": "ddab966a",
   "metadata": {},
   "outputs": [],
   "source": [
    "# Original models\n",
    "xgb_long = XGBRegressor()\n",
    "xgb_lat = XGBRegressor()\n",
    "xgb_long.load_model('../position_model/xgb_longitude_model.pt')\n",
    "xgb_lat.load_model('../position_model/xgb_latitude_model.pt')\n",
    "\n",
    "# Best-tuned models\n",
    "xgb_long_best = XGBRegressor()\n",
    "xgb_lat_best = XGBRegressor()\n",
    "xgb_long_best.load_model('../position_model/xgb_longitude_model_best.pt')\n",
    "xgb_lat_best.load_model('../position_model/xgb_latitude_model_best.pt')"
   ]
  },
  {
   "cell_type": "markdown",
   "id": "01e3bbe8",
   "metadata": {},
   "source": [
    "## Predict and Calculate Accuracy Scores"
   ]
  },
  {
   "cell_type": "code",
   "execution_count": 8,
   "id": "48f5498d",
   "metadata": {},
   "outputs": [
    {
     "name": "stdout",
     "output_type": "stream",
     "text": [
      "Original Model Longitude Accuracy (±0.0005): 0.017\n",
      "Original Model Latitude Accuracy (±0.0005): 0.013\n",
      "Best-tuned Model Longitude Accuracy (±0.0005): 0.018\n",
      "Best-tuned Model Latitude Accuracy (±0.0005): 0.013\n"
     ]
    }
   ],
   "source": [
    "# Predict\n",
    "y_long_pred = xgb_long.predict(X_test)\n",
    "y_lat_pred = xgb_lat.predict(X_test)\n",
    "y_long_pred_best = xgb_long_best.predict(X_test)\n",
    "y_lat_pred_best = xgb_lat_best.predict(X_test)\n",
    "\n",
    "# Define accuracy as percentage of predictions within a tolerance\n",
    "def accuracy_within_tolerance(y_true, y_pred, tolerance=0.0005):\n",
    "    return np.mean(np.abs(y_true - y_pred) <= tolerance)\n",
    "\n",
    "acc_long = accuracy_within_tolerance(y_long_test.values, y_long_pred)\n",
    "acc_lat = accuracy_within_tolerance(y_lat_test.values, y_lat_pred)\n",
    "acc_long_best = accuracy_within_tolerance(y_long_test.values, y_long_pred_best)\n",
    "acc_lat_best = accuracy_within_tolerance(y_lat_test.values, y_lat_pred_best)\n",
    "\n",
    "print(f'Original Model Longitude Accuracy (±0.0005): {acc_long:.3f}')\n",
    "print(f'Original Model Latitude Accuracy (±0.0005): {acc_lat:.3f}')\n",
    "print(f'Best-tuned Model Longitude Accuracy (±0.0005): {acc_long_best:.3f}')\n",
    "print(f'Best-tuned Model Latitude Accuracy (±0.0005): {acc_lat_best:.3f}')"
   ]
  }
 ],
 "metadata": {
  "kernelspec": {
   "display_name": ".venv",
   "language": "python",
   "name": "python3"
  },
  "language_info": {
   "codemirror_mode": {
    "name": "ipython",
    "version": 3
   },
   "file_extension": ".py",
   "mimetype": "text/x-python",
   "name": "python",
   "nbconvert_exporter": "python",
   "pygments_lexer": "ipython3",
   "version": "3.12.3"
  }
 },
 "nbformat": 4,
 "nbformat_minor": 5
}
