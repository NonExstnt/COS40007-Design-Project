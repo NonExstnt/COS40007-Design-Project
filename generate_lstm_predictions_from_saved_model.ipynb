{
 "cells": [
  {
   "cell_type": "code",
   "execution_count": null,
   "id": "33d6031e",
   "metadata": {},
   "outputs": [],
   "source": [
    "from google.colab import files\n",
    "uploaded = files.upload()  # Upload best_lstm_model.pt here\n"
   ]
  },
  {
   "cell_type": "code",
   "execution_count": null,
   "id": "488bc91d",
   "metadata": {},
   "outputs": [],
   "source": [
    "import torch\n",
    "import torch.nn as nn\n",
    "import numpy as np\n",
    "import pandas as pd\n",
    "from torch.utils.data import DataLoader, TensorDataset\n",
    "from sklearn.preprocessing import MinMaxScaler\n",
    "from sklearn.metrics import mean_squared_error, mean_absolute_error\n"
   ]
  },
  {
   "cell_type": "code",
   "execution_count": null,
   "id": "5aee530d",
   "metadata": {},
   "outputs": [],
   "source": [
    "# Simulated input to mimic real test data setup\n",
    "# You can replace this with actual feature values later\n",
    "\n",
    "# Simulate features like svr2, svr3, svr4\n",
    "np.random.seed(42)\n",
    "data_size = 500\n",
    "df_features = pd.DataFrame({\n",
    "    'svr2': np.random.normal(48, 11, data_size),\n",
    "    'svr3': np.random.normal(52, 9, data_size),\n",
    "    'svr4': np.random.normal(49, 10, data_size),\n",
    "    'svr1': np.random.normal(50, 10, data_size)  # target\n",
    "})\n",
    "\n",
    "scaler_X = MinMaxScaler()\n",
    "scaler_y = MinMaxScaler()\n",
    "\n",
    "X_scaled = scaler_X.fit_transform(df_features[['svr2', 'svr3', 'svr4']])\n",
    "y_scaled = scaler_y.fit_transform(df_features[['svr1']])\n",
    "\n",
    "def create_dataset(X, y, lookback=50):\n",
    "    Xs, ys = [], []\n",
    "    for i in range(len(X) - lookback):\n",
    "        Xs.append(X[i:i+lookback])\n",
    "        ys.append(y[i+lookback])\n",
    "    return np.array(Xs), np.array(ys)\n",
    "\n",
    "lookback = 50\n",
    "X_seq, y_seq = create_dataset(X_scaled, y_scaled, lookback)\n",
    "X_test = X_seq[-200:]\n",
    "y_test = y_seq[-200:]\n"
   ]
  },
  {
   "cell_type": "code",
   "execution_count": null,
   "id": "5231f9fb",
   "metadata": {},
   "outputs": [],
   "source": [
    "class LSTMModel(nn.Module):\n",
    "    def __init__(self, input_size, hidden_size=64, num_layers=1):\n",
    "        super(LSTMModel, self).__init__()\n",
    "        self.hidden_size = hidden_size\n",
    "        self.num_layers = num_layers\n",
    "        self.lstm = nn.LSTM(input_size, hidden_size, num_layers, batch_first=True)\n",
    "        self.fc = nn.Linear(hidden_size, 1)\n",
    "\n",
    "    def forward(self, x):\n",
    "        h0 = torch.zeros(self.num_layers, x.size(0), self.hidden_size).to(x.device)\n",
    "        c0 = torch.zeros(self.num_layers, x.size(0), self.hidden_size).to(x.device)\n",
    "        out, _ = self.lstm(x, (h0, c0))\n",
    "        return self.fc(out[:, -1, :])\n",
    "\n",
    "device = torch.device(\"cuda\" if torch.cuda.is_available() else \"cpu\")\n",
    "model = LSTMModel(input_size=3, hidden_size=64, num_layers=1).to(device)\n",
    "model.load_state_dict(torch.load(\"best_lstm_model.pt\", map_location=device))\n",
    "model.eval()\n",
    "print(\"✅ Model loaded successfully.\")\n"
   ]
  },
  {
   "cell_type": "code",
   "execution_count": null,
   "id": "272427da",
   "metadata": {},
   "outputs": [],
   "source": [
    "test_loader = DataLoader(TensorDataset(torch.tensor(X_test, dtype=torch.float32)), batch_size=64)\n",
    "y_pred_batches = []\n",
    "\n",
    "with torch.no_grad():\n",
    "    for xb in test_loader:\n",
    "        xb = xb[0].to(device)\n",
    "        preds = model(xb).cpu().numpy()\n",
    "        y_pred_batches.append(preds)\n",
    "\n",
    "y_pred = np.vstack(y_pred_batches)\n",
    "y_pred_inv = scaler_y.inverse_transform(y_pred)\n",
    "y_test_inv = scaler_y.inverse_transform(y_test)\n",
    "\n",
    "rmse = mean_squared_error(y_test_inv, y_pred_inv)\n",
    "mae = mean_absolute_error(y_test_inv, y_pred_inv)\n",
    "\n",
    "print(f\"✅ RMSE: {rmse:.2f}, MAE: {mae:.2f}\")\n"
   ]
  },
  {
   "cell_type": "code",
   "execution_count": null,
   "id": "085a90d1",
   "metadata": {},
   "outputs": [],
   "source": [
    "df_output = pd.DataFrame({\n",
    "    'actual': y_test_inv.flatten(),\n",
    "    'predicted': y_pred_inv.flatten()\n",
    "})\n",
    "df_output.to_csv(\"lstm_predictions_from_pt.csv\", index=False)\n",
    "print(\"📁 Saved as lstm_predictions_from_pt.csv\")\n"
   ]
  },
  {
   "cell_type": "code",
   "execution_count": null,
   "id": "8aa52049",
   "metadata": {},
   "outputs": [],
   "source": [
    "from google.colab import files\n",
    "files.download(\"lstm_predictions_from_pt.csv\")\n"
   ]
  }
 ],
 "metadata": {},
 "nbformat": 4,
 "nbformat_minor": 5
}
